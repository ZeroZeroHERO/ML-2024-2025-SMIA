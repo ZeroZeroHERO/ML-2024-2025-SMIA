{
  "cells": [
    {
      "cell_type": "markdown",
      "metadata": {
        "id": "GnRPOH9C9KXy"
      },
      "source": [
        "# Multi-Model Merging via Spherical Barycenters (SLERP per n > 2)\n",
        "\n",
        "Obiettivi:\n",
        "1) **Baricentro sferico** (media di Frechet su S^(d-1)) per fondere **n** modelli.\n",
        "2) Confronti su MNIST con baseline: **SLERP chain**, **interpolazione lineare chain**, **ensemble ingenuo**.\n",
        "3) Geometria: **PCA 2D**, **distanze angolari**, **simplex n=3**.\n",
        "4) **Cycle-consistency**: test e consenso tra percorsi.\n",
        "\n",
        "\n"
      ],
      "id": "GnRPOH9C9KXy"
    },
    {
      "cell_type": "markdown",
      "metadata": {
        "id": "qslWE2Oq9KX0"
      },
      "source": [
        "## Setup & Import"
      ],
      "id": "qslWE2Oq9KX0"
    },
    {
      "cell_type": "code",
      "execution_count": null,
      "metadata": {
        "colab": {
          "base_uri": "https://localhost:8080/"
        },
        "id": "M2olV5QJ9KX0",
        "outputId": "0b16833b-d61e-4e38-9a28-bfad27238403"
      },
      "outputs": [
        {
          "output_type": "stream",
          "name": "stdout",
          "text": [
            "Device: cpu\n"
          ]
        }
      ],
      "source": [
        "# !pip install -q --upgrade scipy scikit-learn torchvision torchmetrics\n",
        "\n",
        "import math, os, random, time, json\n",
        "from typing import List, Dict, Tuple\n",
        "\n",
        "import numpy as np\n",
        "import torch\n",
        "import torch.nn as nn\n",
        "import torch.nn.functional as F\n",
        "from torch.utils.data import DataLoader\n",
        "from torchvision import datasets, transforms\n",
        "\n",
        "from scipy.optimize import linear_sum_assignment\n",
        "from sklearn.decomposition import PCA\n",
        "import matplotlib.pyplot as plt\n",
        "\n",
        "SEED = 42\n",
        "random.seed(SEED)\n",
        "np.random.seed(SEED)\n",
        "torch.manual_seed(SEED)\n",
        "torch.cuda.manual_seed_all(SEED)\n",
        "\n",
        "DEVICE = 'cuda' if torch.cuda.is_available() else 'cpu'\n",
        "CKPT_DIR = \"./checkpoints\"\n",
        "os.makedirs(CKPT_DIR, exist_ok=True)\n",
        "\n",
        "print(f\"Device: {DEVICE}\")"
      ],
      "id": "M2olV5QJ9KX0"
    },
    {
      "cell_type": "markdown",
      "metadata": {
        "id": "doifUrpA9KX1"
      },
      "source": [
        "## Dati: MNIST"
      ],
      "id": "doifUrpA9KX1"
    },
    {
      "cell_type": "code",
      "execution_count": null,
      "metadata": {
        "colab": {
          "base_uri": "https://localhost:8080/"
        },
        "id": "xBRgrgES9KX1",
        "outputId": "4997973e-5eed-428e-a6a3-e29756b827a7"
      },
      "outputs": [
        {
          "output_type": "stream",
          "name": "stderr",
          "text": [
            "100%|██████████| 9.91M/9.91M [00:00<00:00, 56.3MB/s]\n",
            "100%|██████████| 28.9k/28.9k [00:00<00:00, 1.61MB/s]\n",
            "100%|██████████| 1.65M/1.65M [00:00<00:00, 14.6MB/s]\n",
            "100%|██████████| 4.54k/4.54k [00:00<00:00, 9.25MB/s]\n"
          ]
        },
        {
          "output_type": "execute_result",
          "data": {
            "text/plain": [
              "(60000, 10000)"
            ]
          },
          "metadata": {},
          "execution_count": 2
        }
      ],
      "source": [
        "BATCH_SIZE = 128\n",
        "\n",
        "transform = transforms.Compose([\n",
        "    transforms.ToTensor(),\n",
        "    transforms.Normalize((0.1307,), (0.3081,)),\n",
        "])\n",
        "\n",
        "train_ds = datasets.MNIST(root=\"./data\", train=True, download=True, transform=transform)\n",
        "test_ds  = datasets.MNIST(root=\"./data\", train=False, download=True, transform=transform)\n",
        "\n",
        "train_loader = DataLoader(train_ds, batch_size=BATCH_SIZE, shuffle=True, num_workers=2, pin_memory=True)\n",
        "test_loader  = DataLoader(test_ds,  batch_size=512, shuffle=False, num_workers=2, pin_memory=True)\n",
        "\n",
        "len(train_ds), len(test_ds)"
      ],
      "id": "xBRgrgES9KX1"
    },
    {
      "cell_type": "markdown",
      "metadata": {
        "id": "eWzKK-dj9KX1"
      },
      "source": [
        "## Modello: MLP semplice"
      ],
      "id": "eWzKK-dj9KX1"
    },
    {
      "cell_type": "code",
      "execution_count": null,
      "metadata": {
        "id": "TVcd--kw9KX2"
      },
      "outputs": [],
      "source": [
        "class SimpleMLP(nn.Module):\n",
        "    def __init__(self):\n",
        "        super().__init__()\n",
        "        self.fc1 = nn.Linear(28*28, 128)\n",
        "        self.fc2 = nn.Linear(128, 64)\n",
        "        self.fc3 = nn.Linear(64, 10)\n",
        "\n",
        "    def forward(self, x):\n",
        "        x = x.view(x.size(0), -1)\n",
        "        x = F.relu(self.fc1(x))\n",
        "        x = F.relu(self.fc2(x))\n",
        "        x = self.fc3(x)\n",
        "        return x\n",
        "\n",
        "def build_model():\n",
        "    return SimpleMLP()"
      ],
      "id": "TVcd--kw9KX2"
    },
    {
      "cell_type": "markdown",
      "metadata": {
        "id": "GneS1-809KX2"
      },
      "source": [
        "## Training & Valutazione"
      ],
      "id": "GneS1-809KX2"
    },
    {
      "cell_type": "code",
      "execution_count": null,
      "metadata": {
        "id": "ayOCwP1H9KX2"
      },
      "outputs": [],
      "source": [
        "def train_model(model: nn.Module, train_loader, epochs=10, lr=1e-2, device=DEVICE, seed=None):\n",
        "    if seed is not None:\n",
        "        torch.manual_seed(seed); np.random.seed(seed); random.seed(seed)\n",
        "    model = model.to(device)\n",
        "    opt = torch.optim.SGD(model.parameters(), lr=lr, momentum=0.9)\n",
        "    criterion = nn.CrossEntropyLoss()\n",
        "    model.train()\n",
        "    for ep in range(epochs):\n",
        "        tot, corr, loss_sum = 0, 0, 0.0\n",
        "        for x, y in train_loader:\n",
        "            x, y = x.to(device), y.to(device)\n",
        "            opt.zero_grad()\n",
        "            logits = model(x)\n",
        "            loss = criterion(logits, y)\n",
        "            loss.backward()\n",
        "            opt.step()\n",
        "            loss_sum += loss.item() * y.size(0)\n",
        "            corr += (logits.argmax(1) == y).sum().item()\n",
        "            tot += y.size(0)\n",
        "        print(f\"[Epoch {ep+1}/{epochs}] loss={loss_sum/tot:.4f} acc={corr/tot:.4f}\")\n",
        "    return model\n",
        "\n",
        "@torch.no_grad()\n",
        "def evaluate_model(model: nn.Module, loader, device=DEVICE) -> float:\n",
        "    model = model.to(device)\n",
        "    model.eval()\n",
        "    corr, tot = 0, 0\n",
        "    for x, y in loader:\n",
        "        x, y = x.to(device), y.to(device)\n",
        "        logits = model(x)\n",
        "        corr += (logits.argmax(1) == y).sum().item()\n",
        "        tot += y.size(0)\n",
        "    acc = corr / tot\n",
        "    print(f\"Accuracy: {acc*100:.2f}%\")\n",
        "    return acc"
      ],
      "id": "ayOCwP1H9KX2"
    },
    {
      "cell_type": "markdown",
      "metadata": {
        "id": "YB8lChAF9KX2"
      },
      "source": [
        "## Utility: flatten/unflatten & vectorizzazione pesi"
      ],
      "id": "YB8lChAF9KX2"
    },
    {
      "cell_type": "code",
      "execution_count": null,
      "metadata": {
        "id": "A5HqF8XU9KX2"
      },
      "outputs": [],
      "source": [
        "def flatten_tensor(t: torch.Tensor) -> torch.Tensor:\n",
        "    return t.reshape(-1)\n",
        "\n",
        "def l2norm(v: torch.Tensor, eps=1e-12) -> torch.Tensor:\n",
        "    return v / (v.norm() + eps)\n",
        "\n",
        "def state_dict_to_vector(sd: Dict[str, torch.Tensor], include_bias=True, normalize=True) -> torch.Tensor:\n",
        "    vecs = []\n",
        "    for k, t in sd.items():\n",
        "        if not t.is_floating_point():\n",
        "            continue\n",
        "        if ((\"bias\" in k) and (not include_bias)) or (\"num_batches_tracked\" in k):\n",
        "            continue\n",
        "        v = flatten_tensor(t.detach().cpu())\n",
        "        if normalize:\n",
        "            v = l2norm(v)\n",
        "        vecs.append(v)\n",
        "    if not vecs:\n",
        "        return torch.zeros(1)\n",
        "    return torch.cat(vecs, dim=0)\n",
        "\n",
        "def vector_distance(a: Dict[str, torch.Tensor], b: Dict[str, torch.Tensor]) -> float:\n",
        "    s = 0.0\n",
        "    for k in a:\n",
        "        if k in b and a[k].dtype.is_floating_point and b[k].dtype.is_floating_point:\n",
        "            s += torch.sum((a[k].detach().cpu() - b[k].detach().cpu())**2).item()\n",
        "    return math.sqrt(s)"
      ],
      "id": "A5HqF8XU9KX2"
    },
    {
      "cell_type": "markdown",
      "metadata": {
        "id": "FM-kqB-N9KX3"
      },
      "source": [
        "## Geometria su S^(d-1): log/exp map e baricentro (media di Frechet)"
      ],
      "id": "FM-kqB-N9KX3"
    },
    {
      "cell_type": "code",
      "execution_count": null,
      "metadata": {
        "id": "bbxglJq_9KX3"
      },
      "outputs": [],
      "source": [
        "def slerp(v1: torch.Tensor, v2: torch.Tensor, alpha: float, eps=1e-8) -> torch.Tensor:\n",
        "    v1 = l2norm(v1)\n",
        "    v2 = l2norm(v2)\n",
        "    dot = torch.clamp(torch.dot(v1, v2), -1.0, 1.0)\n",
        "    th = torch.acos(dot)\n",
        "    if th < eps:\n",
        "        return (1.0 - alpha) * v1 + alpha * v2\n",
        "    sin_t = torch.sin(th)\n",
        "    return (torch.sin((1.0 - alpha) * th) / sin_t) * v1 + (torch.sin(alpha * th) / sin_t) * v2\n",
        "\n",
        "def log_map(x: torch.Tensor, y: torch.Tensor, eps=1e-8) -> torch.Tensor:\n",
        "    # T_x S^(d-1) <- log_x(y)\n",
        "    x = l2norm(x); y = l2norm(y)\n",
        "    c = torch.clamp(torch.dot(x, y), -1.0, 1.0)\n",
        "    th = torch.acos(c)\n",
        "    if th < eps:\n",
        "        return torch.zeros_like(x)\n",
        "    u = y - c * x\n",
        "    denom = torch.norm(u) + eps\n",
        "    u = u / denom\n",
        "    return th * u\n",
        "\n",
        "def exp_map(x: torch.Tensor, v: torch.Tensor, eps=1e-8) -> torch.Tensor:\n",
        "    # S^(d-1) <- exp_x(v)\n",
        "    x = l2norm(x)\n",
        "    nv = torch.norm(v)\n",
        "    if nv < eps:\n",
        "        return x\n",
        "    return torch.cos(nv) * x + torch.sin(nv) * (v / nv)\n",
        "\n",
        "def spherical_frechet_mean(vectors: List[torch.Tensor],\n",
        "                           weights: List[float] = None,\n",
        "                           max_iter: int = 200,\n",
        "                           tol: float = 1e-7,\n",
        "                           step: float = 1.0,\n",
        "                           verbose: bool = False) -> torch.Tensor:\n",
        "    # Karcher mean su S^(d-1) per vettori unitari\n",
        "    assert len(vectors) > 0\n",
        "    vecs = [l2norm(v.detach().cpu().clone()) for v in vectors]\n",
        "    n = len(vecs)\n",
        "    if weights is None:\n",
        "        w = torch.ones(n) / n\n",
        "    else:\n",
        "        w = torch.tensor(weights, dtype=torch.float)\n",
        "        w = w / (w.sum() + 1e-12)\n",
        "\n",
        "    # init: media euclidea normalizzata\n",
        "    m = l2norm(sum((w[i] * vecs[i] for i in range(n)), torch.zeros_like(vecs[0])))\n",
        "\n",
        "    def energy(mv):\n",
        "        angs = []\n",
        "        for i in range(n):\n",
        "            c = torch.clamp(torch.dot(mv, vecs[i]), -1.0, 1.0)\n",
        "            th = torch.acos(c)\n",
        "            angs.append((w[i] * th * th).item())\n",
        "        return float(sum(angs))\n",
        "\n",
        "    prev_E = energy(m)\n",
        "    for it in range(max_iter):\n",
        "        grad = torch.zeros_like(m)\n",
        "        for i in range(n):\n",
        "            grad = grad + w[i] * log_map(m, vecs[i])\n",
        "        gnorm = torch.norm(grad).item()\n",
        "        if gnorm < tol:\n",
        "            if verbose: print(f\"[Karcher] stop at {it}, ||grad||={gnorm:.3e}\")\n",
        "            break\n",
        "        eta = step\n",
        "        for _ in range(10):\n",
        "            cand = exp_map(m, eta * grad)\n",
        "            E = energy(cand)\n",
        "            if E <= prev_E - 1e-12:\n",
        "                m = cand\n",
        "                prev_E = E\n",
        "                break\n",
        "            eta *= 0.5\n",
        "        else:\n",
        "            m = exp_map(m, 0.1 * grad)\n",
        "            prev_E = energy(m)\n",
        "    return l2norm(m)"
      ],
      "id": "bbxglJq_9KX3"
    },
    {
      "cell_type": "markdown",
      "metadata": {
        "id": "5k2Bizs_9KX3"
      },
      "source": [
        "## Allineamento (Re-Basin) tra MLP"
      ],
      "id": "5k2Bizs_9KX3"
    },
    {
      "cell_type": "code",
      "execution_count": null,
      "metadata": {
        "id": "zLMA5Hs99KX3"
      },
      "outputs": [],
      "source": [
        "def clone_model(model: nn.Module) -> nn.Module:\n",
        "    m = SimpleMLP()\n",
        "    m.load_state_dict(model.state_dict())\n",
        "    return m\n",
        "\n",
        "def rebasin_to_reference(model_src: nn.Module, model_ref: nn.Module) -> nn.Module:\n",
        "    aligned = clone_model(model_src)\n",
        "\n",
        "    # fc1: allinea righe (neuroni)\n",
        "    W1_src = aligned.fc1.weight.data.detach().cpu().numpy()\n",
        "    W1_ref = model_ref.fc1.weight.data.detach().cpu().numpy()\n",
        "    cost1 = np.linalg.norm(W1_src[:, None, :], axis=2)**2 \\\n",
        "          + np.linalg.norm(W1_ref[None, :, :], axis=2)**2 \\\n",
        "          - 2.0 * (W1_src @ W1_ref.T)\n",
        "    row1, col1 = linear_sum_assignment(cost1)\n",
        "    aligned.fc1.weight.data = torch.tensor(W1_src[row1], device=aligned.fc1.weight.device)\n",
        "    aligned.fc1.bias.data   = aligned.fc1.bias.data[row1]\n",
        "\n",
        "    # Propaga permutazione row1 alle colonne di fc2\n",
        "    W2 = aligned.fc2.weight.data.detach().cpu().numpy()\n",
        "    W2 = W2[:, row1]\n",
        "    aligned.fc2.weight.data = torch.tensor(W2, device=aligned.fc2.weight.device)\n",
        "\n",
        "    # fc2: allinea righe\n",
        "    W2_src = aligned.fc2.weight.data.detach().cpu().numpy()\n",
        "    W2_ref = model_ref.fc2.weight.data.detach().cpu().numpy()\n",
        "    cost2 = np.linalg.norm(W2_src[:, None, :], axis=2)**2 \\\n",
        "          + np.linalg.norm(W2_ref[None, :, :], axis=2)**2 \\\n",
        "          - 2.0 * (W2_src @ W2_ref.T)\n",
        "    row2, col2 = linear_sum_assignment(cost2)\n",
        "    aligned.fc2.weight.data = torch.tensor(W2_src[row2], device=aligned.fc2.weight.device)\n",
        "    aligned.fc2.bias.data   = aligned.fc2.bias.data[row2]\n",
        "\n",
        "    # Propaga permutazione row2 alle colonne di fc3\n",
        "    W3 = aligned.fc3.weight.data.detach().cpu().numpy()\n",
        "    W3 = W3[:, row2]\n",
        "    aligned.fc3.weight.data = torch.tensor(W3, device=aligned.fc3.weight.device)\n",
        "    return aligned"
      ],
      "id": "zLMA5Hs99KX3"
    },
    {
      "cell_type": "markdown",
      "metadata": {
        "id": "p6wG1QS59KX3"
      },
      "source": [
        "## Merge su state_dict: Interpolazioni e Baricentro Sferico (layer-wise)"
      ],
      "id": "p6wG1QS59KX3"
    },
    {
      "cell_type": "code",
      "execution_count": null,
      "metadata": {
        "id": "9x5iEsfe9KX4"
      },
      "outputs": [],
      "source": [
        "def is_running_stat(key: str) -> bool:\n",
        "    return any(kw in key for kw in [\"running_mean\", \"running_var\", \"num_batches_tracked\"])\n",
        "\n",
        "def linear_interpolate_state_dict(sd1: Dict[str, torch.Tensor], sd2: Dict[str, torch.Tensor], alpha: float) -> Dict[str, torch.Tensor]:\n",
        "    out = {}\n",
        "    for k in sd1.keys():\n",
        "        if k not in sd2:\n",
        "            continue\n",
        "        t1, t2 = sd1[k], sd2[k]\n",
        "        if not (t1.dtype.is_floating_point and t2.dtype.is_floating_point):\n",
        "            out[k] = t1.clone()\n",
        "            continue\n",
        "        out[k] = (1.0 - alpha) * t1 + alpha * t2\n",
        "    return out\n",
        "\n",
        "def slerp_tensors(t1: torch.Tensor, t2: torch.Tensor, alpha: float, eps=1e-8) -> torch.Tensor:\n",
        "    v1 = flatten_tensor(t1).detach().cpu()\n",
        "    v2 = flatten_tensor(t2).detach().cpu()\n",
        "    n1 = v1.norm() + eps\n",
        "    n2 = v2.norm() + eps\n",
        "    if n1 < eps and n2 < eps:\n",
        "        return torch.zeros_like(t1)\n",
        "    if n1 < eps:\n",
        "        return alpha * t2\n",
        "    if n2 < eps:\n",
        "        return (1.0 - alpha) * t1\n",
        "    u1 = v1 / n1\n",
        "    u2 = v2 / n2\n",
        "    u = slerp(u1, u2, alpha)\n",
        "    n = (1.0 - alpha) * n1 + alpha * n2\n",
        "    out = (u * n).reshape(t1.shape)\n",
        "    return out.to(t1.device).type_as(t1)\n",
        "\n",
        "def slerp_state_dict(sd1: Dict[str, torch.Tensor], sd2: Dict[str, torch.Tensor], alpha: float) -> Dict[str, torch.Tensor]:\n",
        "    out = {}\n",
        "    for k in sd1.keys():\n",
        "        if k not in sd2:\n",
        "            continue\n",
        "        t1, t2 = sd1[k], sd2[k]\n",
        "        if is_running_stat(k) or ('bias' in k) or (not (t1.dtype.is_floating_point and t2.dtype.is_floating_point)):\n",
        "            out[k] = (1.0 - alpha) * t1 + alpha * t2\n",
        "        else:\n",
        "            out[k] = slerp_tensors(t1, t2, alpha)\n",
        "    return out\n",
        "\n",
        "def barycenter_tensors(tensors: List[torch.Tensor], weights: List[float] = None) -> torch.Tensor:\n",
        "    vs = []\n",
        "    norms = []\n",
        "    eps = 1e-8\n",
        "    for t in tensors:\n",
        "        v = flatten_tensor(t).detach().cpu()\n",
        "        n = v.norm() + eps\n",
        "        norms.append(n)\n",
        "        if n < eps:\n",
        "            v = torch.zeros_like(v); v[0] = 1.0; n = v.norm()\n",
        "        vs.append(v / n)\n",
        "    w = None\n",
        "    if weights is not None:\n",
        "        w = weights\n",
        "    u_star = spherical_frechet_mean(vs, weights=w, max_iter=200, tol=1e-7, step=1.0, verbose=False)\n",
        "    norms = torch.tensor(norms, dtype=torch.float)\n",
        "    if weights is None:\n",
        "        n_bar = norms.mean().item()\n",
        "    else:\n",
        "        w_t = torch.tensor(weights, dtype=torch.float)\n",
        "        n_bar = float((w_t / (w_t.sum() + 1e-12) * norms).sum().item())\n",
        "    out = (u_star * n_bar).reshape(tensors[0].shape)\n",
        "    return out.to(tensors[0].device).type_as(tensors[0])\n",
        "\n",
        "def barycenter_state_dicts(sds: List[Dict[str, torch.Tensor]], weights: List[float] = None) -> Dict[str, torch.Tensor]:\n",
        "    keys = sds[0].keys()\n",
        "    out = {}\n",
        "    for k in keys:\n",
        "        tlist = [sd[k] for sd in sds if k in sd]\n",
        "        if not tlist:\n",
        "            continue\n",
        "        t0 = tlist[0]\n",
        "        if is_running_stat(k) or ('bias' in k) or (not t0.dtype.is_floating_point):\n",
        "            if weights is None:\n",
        "                out[k] = sum(tlist) / len(tlist)\n",
        "            else:\n",
        "                w = torch.tensor(weights, dtype=torch.float, device=t0.device)\n",
        "                w = w / (w.sum() + 1e-12)\n",
        "                tt = torch.stack([t.to(t0.device) for t in tlist], dim=0)\n",
        "                out[k] = (w.view(-1, *([1] * (tt.ndim - 1))) * tt).sum(dim=0)\n",
        "        else:\n",
        "            out[k] = barycenter_tensors(tlist, weights)\n",
        "    return out"
      ],
      "id": "9x5iEsfe9KX4"
    },
    {
      "cell_type": "markdown",
      "metadata": {
        "id": "-Ntq6G2A9KX4"
      },
      "source": [
        "## Ensemble ingenuo (media logits)"
      ],
      "id": "-Ntq6G2A9KX4"
    },
    {
      "cell_type": "code",
      "execution_count": null,
      "metadata": {
        "id": "jiAa2fCH9KX4"
      },
      "outputs": [],
      "source": [
        "@torch.no_grad()\n",
        "def ensemble_accuracy(models: List[nn.Module], loader, device=DEVICE) -> float:\n",
        "    for m in models:\n",
        "        m.to(device).eval()\n",
        "    corr, tot = 0, 0\n",
        "    for x, y in loader:\n",
        "        x, y = x.to(device), y.to(device)\n",
        "        logits_sum = None\n",
        "        for m in models:\n",
        "            l = m(x)\n",
        "            logits_sum = l if logits_sum is None else logits_sum + l\n",
        "        preds = logits_sum.argmax(1)\n",
        "        corr += (preds == y).sum().item()\n",
        "        tot += y.size(0)\n",
        "    acc = corr / tot\n",
        "    print(f\"Ensemble accuracy: {acc*100:.2f}%\")\n",
        "    return acc"
      ],
      "id": "jiAa2fCH9KX4"
    },
    {
      "cell_type": "markdown",
      "metadata": {
        "id": "wtyiRpSe9KX4"
      },
      "source": [
        "## Training di piu modelli e salvataggio checkpoint"
      ],
      "id": "wtyiRpSe9KX4"
    },
    {
      "cell_type": "code",
      "execution_count": null,
      "metadata": {
        "id": "fZSR1sdV9KX5"
      },
      "outputs": [],
      "source": [
        "def save_ckpt(model: nn.Module, path: str):\n",
        "    torch.save(model.state_dict(), path)\n",
        "\n",
        "def load_ckpt(path: str) -> nn.Module:\n",
        "    m = build_model()\n",
        "    m.load_state_dict(torch.load(path, map_location=\"cpu\"))\n",
        "    return m\n",
        "\n",
        "def train_multiple_models(K=3, epochs=10, lr=1e-2, base_seed=0) -> List[str]:\n",
        "    paths = []\n",
        "    for i in range(K):\n",
        "        seed = base_seed + i\n",
        "        print(f\"\\n===> Training model {i} (seed={seed})\")\n",
        "        m = build_model()\n",
        "        train_model(m, train_loader, epochs=epochs, lr=lr, seed=seed, device=DEVICE)\n",
        "        p = os.path.join(CKPT_DIR, f\"mnist_mlp_seed{seed}.pt\")\n",
        "        save_ckpt(m.cpu(), p)\n",
        "        paths.append(p)\n",
        "    return paths"
      ],
      "id": "fZSR1sdV9KX5"
    },
    {
      "cell_type": "markdown",
      "metadata": {
        "id": "O07h1t-g9KX5"
      },
      "source": [
        "## Funzioni esperimento di merge"
      ],
      "id": "O07h1t-g9KX5"
    },
    {
      "cell_type": "code",
      "execution_count": null,
      "metadata": {
        "id": "GtCkQt4w9KX5"
      },
      "outputs": [],
      "source": [
        "def make_models_from_paths(paths: List[str]) -> List[nn.Module]:\n",
        "    return [load_ckpt(p) for p in paths]\n",
        "\n",
        "def align_models_to_ref(models: List[nn.Module], ref_idx=0) -> List[nn.Module]:\n",
        "    ref = models[ref_idx]\n",
        "    out = []\n",
        "    for i, m in enumerate(models):\n",
        "        if i == ref_idx:\n",
        "            out.append(m)\n",
        "        else:\n",
        "            out.append(rebasin_to_reference(m, ref))\n",
        "    return out\n",
        "\n",
        "def build_model_from_sd(sd: Dict[str, torch.Tensor]) -> nn.Module:\n",
        "    m = build_model()\n",
        "    m.load_state_dict(sd)\n",
        "    return m\n",
        "\n",
        "def evaluate_state_dict(sd: Dict[str, torch.Tensor], loader) -> float:\n",
        "    m = build_model_from_sd(sd)\n",
        "    return evaluate_model(m, loader)\n",
        "\n",
        "def experiment_merge(paths: List[str], do_align=True):\n",
        "    models = make_models_from_paths(paths)\n",
        "    if do_align:\n",
        "        print(\"\\n[Re-Basin] Allineo modelli al riferimento (0)...\")\n",
        "        models_aligned = align_models_to_ref(models, ref_idx=0)\n",
        "    else:\n",
        "        models_aligned = models\n",
        "\n",
        "    print(\"\\n[Eval] Modelli singoli\")\n",
        "    single_accs = []\n",
        "    for i, m in enumerate(models_aligned):\n",
        "        a = evaluate_model(m, test_loader)\n",
        "        single_accs.append(a)\n",
        "\n",
        "    ens_acc = ensemble_accuracy(models_aligned, test_loader)\n",
        "    sds = [m.state_dict() for m in models_aligned]\n",
        "\n",
        "    results = []\n",
        "    print(\"\\n[Merge] Barycenter n (uniforme)\")\n",
        "    sd_bary_u = barycenter_state_dicts(sds, weights=None)\n",
        "    acc_bary_u = evaluate_state_dict(sd_bary_u, test_loader)\n",
        "    results.append((\"barycenter_uniform\", acc_bary_u))\n",
        "\n",
        "    if len(sds) >= 3:\n",
        "        w = [0.6, 0.3, 0.1] + [0.0] * (len(sds) - 3)\n",
        "        w = w[:len(sds)]\n",
        "        print(f\"\\n[Merge] Barycenter n (pesato={w})\")\n",
        "        sd_bary_w = barycenter_state_dicts(sds, weights=w)\n",
        "        acc_bary_w = evaluate_state_dict(sd_bary_w, test_loader)\n",
        "        results.append((\"barycenter_weighted\", acc_bary_w))\n",
        "\n",
        "    print(\"\\n[Merge] Pairwise SLERP chain\")\n",
        "    sd_chain = sds[0]\n",
        "    for j in range(1, len(sds)):\n",
        "        sd_chain = slerp_state_dict(sd_chain, sds[j], alpha=0.5)\n",
        "    acc_chain = evaluate_state_dict(sd_chain, test_loader)\n",
        "    results.append((\"slerp_chain_0.5\", acc_chain))\n",
        "\n",
        "    print(\"\\n[Merge] Interpolazione lineare chain\")\n",
        "    sd_lin = sds[0]\n",
        "    for j in range(1, len(sds)):\n",
        "        sd_lin = linear_interpolate_state_dict(sd_lin, sds[j], alpha=0.5)\n",
        "    acc_lin = evaluate_state_dict(sd_lin, test_loader)\n",
        "    results.append((\"linear_chain_0.5\", acc_lin))\n",
        "\n",
        "    results.append((\"ensemble_logits\", ens_acc))\n",
        "\n",
        "    import pandas as pd\n",
        "    df = pd.DataFrame([{\"method\": \"single_\" + str(i), \"acc\": single_accs[i]} for i in range(len(single_accs))] +\n",
        "                      [{\"method\": m, \"acc\": a} for (m, a) in results])\n",
        "    print(df)\n",
        "\n",
        "    # Spiegazione breve per ogni riga del risultato:\n",
        "    explanations = {\n",
        "        \"barycenter_uniform\": \"Baricentro sferico n-ario con pesi uniformi (merge dei pesi su S^(d-1)).\",\n",
        "        \"barycenter_weighted\": \"Baricentro sferico n-ario con pesi non uniformi (es. 0.6, 0.3, 0.1).\",\n",
        "        \"slerp_chain_0.5\": \"Catena di SLERP pairwise con alpha=0.5 a ogni step (dipende dall'ordine).\",\n",
        "        \"linear_chain_0.5\": \"Catena di interpolazioni lineari (euclidee) con alpha=0.5.\",\n",
        "        \"ensemble_logits\": \"Ensemble ingenuo: media dei logits senza fondere i pesi.\",\n",
        "    }\n",
        "    print(\"\\nSpiegazione metodi:\")\n",
        "    for _, row in df.iterrows():\n",
        "        m = row[\"method\"]\n",
        "        if m.startswith(\"single_\"):\n",
        "            print(f\"- {m}: Accuratezza del modello singolo (seed specifico).\")\n",
        "        elif m in explanations:\n",
        "            print(f\"- {m}: {explanations[m]}\")\n",
        "\n",
        "    return df, models_aligned, sds, sd_bary_u, sd_chain"
      ],
      "id": "GtCkQt4w9KX5"
    },
    {
      "cell_type": "markdown",
      "metadata": {
        "id": "J5izN8uz9KX5"
      },
      "source": [
        "## Geometria: PCA 2D e distanze angolari"
      ],
      "id": "J5izN8uz9KX5"
    },
    {
      "cell_type": "code",
      "execution_count": null,
      "metadata": {
        "id": "0X6rEroE9KX5"
      },
      "outputs": [],
      "source": [
        "def angular_distance(u: torch.Tensor, v: torch.Tensor) -> float:\n",
        "    u = l2norm(u); v = l2norm(v)\n",
        "    c = torch.clamp(torch.dot(u, v), -1.0, 1.0)\n",
        "    return float(torch.acos(c).item())\n",
        "\n",
        "def pca_plot_models(state_dicts: List[Dict[str, torch.Tensor]], labels: List[str]):\n",
        "    vecs = [state_dict_to_vector(sd, include_bias=True, normalize=True) for sd in state_dicts]\n",
        "    X = torch.stack(vecs).numpy()\n",
        "    pca = PCA(n_components=2)\n",
        "    X2 = pca.fit_transform(X)\n",
        "\n",
        "    plt.figure()\n",
        "    for i, (x, y) in enumerate(X2):\n",
        "        plt.scatter(x, y)\n",
        "        plt.text(x, y, labels[i])\n",
        "    plt.title(\"PCA (2D) dei vettori pesi unitari\")\n",
        "    plt.xlabel(\"PC1\"); plt.ylabel(\"PC2\")\n",
        "    plt.show()\n",
        "\n",
        "    n = len(vecs)\n",
        "    M = np.zeros((n, n), dtype=float)\n",
        "    for i in range(n):\n",
        "        for j in range(n):\n",
        "            M[i, j] = angular_distance(vecs[i], vecs[j])\n",
        "    import pandas as pd\n",
        "    df = pd.DataFrame(M, index=labels, columns=labels)\n",
        "    print(\"Distanze angolari (radiani):\")\n",
        "    print(df.round(4))\n",
        "    return df"
      ],
      "id": "0X6rEroE9KX5"
    },
    {
      "cell_type": "markdown",
      "metadata": {
        "id": "hiEkGUDA9KX5"
      },
      "source": [
        "## Cycle consistency (path-independence) – Test e consenso"
      ],
      "id": "hiEkGUDA9KX5"
    },
    {
      "cell_type": "code",
      "execution_count": null,
      "metadata": {
        "id": "LxNmzTw_9KX6"
      },
      "outputs": [],
      "source": [
        "def state_dict_distance(sd1: Dict[str, torch.Tensor], sd2: Dict[str, torch.Tensor]) -> float:\n",
        "    return vector_distance(sd1, sd2)\n",
        "\n",
        "def cycle_consistency_test(\n",
        "    sds: List[Dict[str, torch.Tensor]],\n",
        "    sd_bary: Dict[str, torch.Tensor],\n",
        "    sd_chain: Dict[str, torch.Tensor],\n",
        "    enforce: bool = True,\n",
        "    alpha_chain: float = 0.5,\n",
        "    max_paths: int = 6,\n",
        "    return_sd: bool = True,\n",
        "):\n",
        "    import itertools, random\n",
        "\n",
        "    K = len(sds)\n",
        "    idxs = list(range(K))\n",
        "\n",
        "    def slerp_chain_by_order(order):\n",
        "        sd = sds[order[0]]\n",
        "        for j in order[1:]:\n",
        "            sd = slerp_state_dict(sd, sds[j], alpha=alpha_chain)\n",
        "        return sd\n",
        "\n",
        "    orders = []\n",
        "    if K <= 5:\n",
        "        orders = list(itertools.permutations(idxs))\n",
        "        if max_paths is not None and len(orders) > max_paths:\n",
        "            random.seed(123)\n",
        "            orders = random.sample(orders, max_paths)\n",
        "    else:\n",
        "        random.seed(123)\n",
        "        orders = [tuple(random.sample(idxs, K)) for _ in range(max_paths)]\n",
        "\n",
        "    base = tuple(range(K))\n",
        "    if base not in orders:\n",
        "        orders = [base] + orders\n",
        "\n",
        "    path_state_dicts = []\n",
        "    dists_to_bary = []\n",
        "    for ordk in orders:\n",
        "        sd_path = slerp_chain_by_order(ordk)\n",
        "        path_state_dicts.append(sd_path)\n",
        "        d = vector_distance(sd_path, sd_bary)\n",
        "        dists_to_bary.append(d)\n",
        "\n",
        "    d_chain = vector_distance(sd_chain, sd_bary)\n",
        "\n",
        "    d_arr = np.array(dists_to_bary, dtype=float)\n",
        "    stats = {\n",
        "        \"num_paths\": len(orders),\n",
        "        \"min_dist\": float(d_arr.min() if len(d_arr)>0 else 0.0),\n",
        "        \"max_dist\": float(d_arr.max() if len(d_arr)>0 else 0.0),\n",
        "        \"mean_dist\": float(d_arr.mean() if len(d_arr)>0 else 0.0),\n",
        "        \"std_dist\": float(d_arr.std(ddof=0) if len(d_arr)>0 else 0.0),\n",
        "    }\n",
        "\n",
        "    print(f\"|| barycenter - slerp_chain(base) ||_2 = {d_chain:.4f}\")\n",
        "    print(f\"[paths={stats['num_paths']}] dist(path, bary): \"\n",
        "          f\"min={stats['min_dist']:.4f}, max={stats['max_dist']:.4f}, \"\n",
        "          f\"mean={stats['mean_dist']:.4f} ± {stats['std_dist']:.4f}\")\n",
        "\n",
        "    if enforce:\n",
        "        sds_consensus = [sd_bary] + path_state_dicts\n",
        "        weights = None  # oppure: [2.0] + [1.0]*len(path_state_dicts) per dare piu peso a sd_bary\n",
        "        sd_cc = barycenter_state_dicts(sds_consensus, weights=weights)\n",
        "        d_cc_bary = vector_distance(sd_cc, sd_bary)\n",
        "        d_cc_chain = vector_distance(sd_cc, sd_chain)\n",
        "        print(f\"Consensus merge: ||cc - bary||_2 = {d_cc_bary:.4f},  ||cc - chain(base)||_2 = {d_cc_chain:.4f}\")\n",
        "        if return_sd:\n",
        "            return d_chain, stats, sd_cc\n",
        "        else:\n",
        "            return d_chain, stats\n",
        "\n",
        "    return d_chain, stats"
      ],
      "id": "LxNmzTw_9KX6"
    },
    {
      "cell_type": "markdown",
      "metadata": {
        "id": "qYnX8GIi9KX6"
      },
      "source": [
        "## Simplex per n=3: campionamento pesi e mappa prestazioni"
      ],
      "id": "qYnX8GIi9KX6"
    },
    {
      "cell_type": "code",
      "execution_count": null,
      "metadata": {
        "id": "UCXU6AE69KX6"
      },
      "outputs": [],
      "source": [
        "def barycentric_to_cartesian(w1, w2, w3):\n",
        "    A = np.array([0.0, 0.0])\n",
        "    B = np.array([1.0, 0.0])\n",
        "    C = np.array([0.5, math.sqrt(3)/2.0])\n",
        "    return w1*A + w2*B + w3*C\n",
        "\n",
        "def simplex_scan_n3(sds: List[Dict[str, torch.Tensor]], steps=4):\n",
        "    assert len(sds) >= 3, \"Servono almeno 3 modelli\"\n",
        "    pts = []\n",
        "    accs = []\n",
        "    for i in range(steps+1):\n",
        "        for j in range(steps+1 - i):\n",
        "            k = steps - i - j\n",
        "            w = np.array([i, j, k], dtype=float) / steps\n",
        "            w = w.tolist()\n",
        "            sd_b = barycenter_state_dicts(sds[:3], weights=w)\n",
        "            acc = evaluate_state_dict(sd_b, test_loader)\n",
        "            x, y = barycentric_to_cartesian(*w)\n",
        "            pts.append((x, y))\n",
        "            accs.append(acc)\n",
        "    xs = [p[0] for p in pts]\n",
        "    ys = [p[1] for p in pts]\n",
        "    plt.figure()\n",
        "    sc = plt.scatter(xs, ys, c=accs)\n",
        "    plt.title(\"Accuracy sul simplex dei pesi (n=3)\")\n",
        "    plt.xlabel(\"x\"); plt.ylabel(\"y\")\n",
        "    plt.colorbar(sc, label=\"Accuracy\")\n",
        "    plt.show()"
      ],
      "id": "UCXU6AE69KX6"
    },
    {
      "cell_type": "markdown",
      "metadata": {
        "id": "GxaRiySq9KX6"
      },
      "source": [
        "## Esecuzione demo"
      ],
      "id": "GxaRiySq9KX6"
    },
    {
      "cell_type": "code",
      "execution_count": null,
      "metadata": {
        "colab": {
          "base_uri": "https://localhost:8080/",
          "height": 1000
        },
        "id": "Yo4h0CmR9KX6",
        "outputId": "42fb8eab-24d4-4071-deae-b72aeb796715"
      },
      "outputs": [
        {
          "output_type": "stream",
          "name": "stdout",
          "text": [
            "\n",
            "===> Training model 0 (seed=0)\n"
          ]
        },
        {
          "output_type": "stream",
          "name": "stderr",
          "text": [
            "/usr/local/lib/python3.12/dist-packages/torch/utils/data/dataloader.py:666: UserWarning: 'pin_memory' argument is set as true but no accelerator is found, then device pinned memory won't be used.\n",
            "  warnings.warn(warn_msg)\n"
          ]
        },
        {
          "output_type": "stream",
          "name": "stdout",
          "text": [
            "[Epoch 1/10] loss=0.4388 acc=0.8706\n",
            "[Epoch 2/10] loss=0.1608 acc=0.9526\n",
            "[Epoch 3/10] loss=0.1103 acc=0.9669\n",
            "[Epoch 4/10] loss=0.0836 acc=0.9749\n",
            "[Epoch 5/10] loss=0.0666 acc=0.9801\n",
            "[Epoch 6/10] loss=0.0539 acc=0.9838\n",
            "[Epoch 7/10] loss=0.0450 acc=0.9861\n",
            "[Epoch 8/10] loss=0.0369 acc=0.9890\n",
            "[Epoch 9/10] loss=0.0302 acc=0.9912\n",
            "[Epoch 10/10] loss=0.0248 acc=0.9929\n",
            "\n",
            "===> Training model 1 (seed=1)\n",
            "[Epoch 1/10] loss=0.4643 acc=0.8678\n",
            "[Epoch 2/10] loss=0.1647 acc=0.9510\n",
            "[Epoch 3/10] loss=0.1117 acc=0.9662\n",
            "[Epoch 4/10] loss=0.0841 acc=0.9754\n",
            "[Epoch 5/10] loss=0.0664 acc=0.9804\n",
            "[Epoch 6/10] loss=0.0543 acc=0.9838\n",
            "[Epoch 7/10] loss=0.0442 acc=0.9869\n",
            "[Epoch 8/10] loss=0.0376 acc=0.9887\n",
            "[Epoch 9/10] loss=0.0307 acc=0.9909\n",
            "[Epoch 10/10] loss=0.0247 acc=0.9929\n",
            "\n",
            "===> Training model 2 (seed=2)\n",
            "[Epoch 1/10] loss=0.4348 acc=0.8721\n",
            "[Epoch 2/10] loss=0.1605 acc=0.9527\n",
            "[Epoch 3/10] loss=0.1095 acc=0.9671\n",
            "[Epoch 4/10] loss=0.0822 acc=0.9759\n",
            "[Epoch 5/10] loss=0.0656 acc=0.9807\n",
            "[Epoch 6/10] loss=0.0545 acc=0.9836\n",
            "[Epoch 7/10] loss=0.0449 acc=0.9867\n",
            "[Epoch 8/10] loss=0.0382 acc=0.9885\n",
            "[Epoch 9/10] loss=0.0315 acc=0.9905\n",
            "[Epoch 10/10] loss=0.0272 acc=0.9921\n",
            "\n",
            "[Re-Basin] Allineo modelli al riferimento (0)...\n",
            "\n",
            "[Eval] Modelli singoli\n",
            "Accuracy: 97.74%\n",
            "Accuracy: 97.70%\n",
            "Accuracy: 97.99%\n",
            "Ensemble accuracy: 98.20%\n",
            "\n",
            "[Merge] Barycenter n (uniforme)\n",
            "Accuracy: 52.74%\n",
            "\n",
            "[Merge] Barycenter n (pesato=[0.6, 0.3, 0.1])\n",
            "Accuracy: 85.41%\n",
            "\n",
            "[Merge] Pairwise SLERP chain\n",
            "Accuracy: 57.59%\n",
            "\n",
            "[Merge] Interpolazione lineare chain\n",
            "Accuracy: 73.14%\n",
            "                method     acc\n",
            "0             single_0  0.9774\n",
            "1             single_1  0.9770\n",
            "2             single_2  0.9799\n",
            "3   barycenter_uniform  0.5274\n",
            "4  barycenter_weighted  0.8541\n",
            "5      slerp_chain_0.5  0.5759\n",
            "6     linear_chain_0.5  0.7314\n",
            "7      ensemble_logits  0.9820\n",
            "\n",
            "Spiegazione metodi:\n",
            "- single_0: Accuratezza del modello singolo (seed specifico).\n",
            "- single_1: Accuratezza del modello singolo (seed specifico).\n",
            "- single_2: Accuratezza del modello singolo (seed specifico).\n",
            "- barycenter_uniform: Baricentro sferico n-ario con pesi uniformi (merge dei pesi su S^(d-1)).\n",
            "- barycenter_weighted: Baricentro sferico n-ario con pesi non uniformi (es. 0.6, 0.3, 0.1).\n",
            "- slerp_chain_0.5: Catena di SLERP pairwise con alpha=0.5 a ogni step (dipende dall'ordine).\n",
            "- linear_chain_0.5: Catena di interpolazioni lineari (euclidee) con alpha=0.5.\n",
            "- ensemble_logits: Ensemble ingenuo: media dei logits senza fondere i pesi.\n"
          ]
        },
        {
          "output_type": "display_data",
          "data": {
            "text/plain": [
              "<Figure size 640x480 with 1 Axes>"
            ],
            "image/png": "[encoded data removed]"
          },
          "metadata": {}
        },
        {
          "output_type": "stream",
          "name": "stdout",
          "text": [
            "Distanze angolari (radiani):\n",
            "             M0      M1      M2  Bary(u)\n",
            "M0       0.0003  1.5180  1.5800   0.9707\n",
            "M1       1.5180  0.0000  1.5279   0.8986\n",
            "M2       1.5800  1.5279  0.0000   0.9401\n",
            "Bary(u)  0.9707  0.8986  0.9401   0.0000\n",
            "|| barycenter - slerp_chain(base) ||_2 = 2.3070\n",
            "[paths=6] dist(path, bary): min=2.3026, max=2.3127, mean=2.3074 ± 0.0041\n",
            "Consensus merge: ||cc - bary||_2 = 0.0013,  ||cc - chain(base)||_2 = 2.3075\n",
            "\n",
            "[Eval] Cycle-consistent consensus merge\n"
          ]
        },
        {
          "output_type": "stream",
          "name": "stderr",
          "text": [
            "/usr/local/lib/python3.12/dist-packages/torch/utils/data/dataloader.py:666: UserWarning: 'pin_memory' argument is set as true but no accelerator is found, then device pinned memory won't be used.\n",
            "  warnings.warn(warn_msg)\n"
          ]
        },
        {
          "output_type": "stream",
          "name": "stdout",
          "text": [
            "Accuracy: 52.74%\n",
            "Accuracy (cycle-consistent): 52.74%\n",
            "Accuracy: 97.99%\n",
            "Accuracy: 93.74%\n",
            "Accuracy: 73.24%\n",
            "Accuracy: 94.62%\n",
            "Accuracy: 97.70%\n",
            "Accuracy: 94.07%\n",
            "Accuracy: 67.10%\n",
            "Accuracy: 67.33%\n",
            "Accuracy: 94.07%\n",
            "Accuracy: 74.46%\n",
            "Accuracy: 65.14%\n",
            "Accuracy: 79.18%\n",
            "Accuracy: 92.64%\n",
            "Accuracy: 94.56%\n",
            "Accuracy: 97.74%\n"
          ]
        },
        {
          "output_type": "display_data",
          "data": {
            "text/plain": [
              "<Figure size 640x480 with 2 Axes>"
            ],
            "image/png": "[encoded data removed]"
          },
          "metadata": {}
        }
      ],
      "source": [
        "# Parametri demo\n",
        "K = 3          # >=3 per vedere barycenter n>2 e simplex\n",
        "EPOCHS = 10    # imposta a 5 o 10; modelli piu simili e piu forti\n",
        "LR = 1e-2\n",
        "BASE_SEED = 0\n",
        "\n",
        "# 1) Allena K modelli (usa checkpoint se gia esistono)\n",
        "paths = []\n",
        "for i in range(K):\n",
        "    p = os.path.join(CKPT_DIR, f\"mnist_mlp_seed{BASE_SEED+i}.pt\")\n",
        "    if not os.path.exists(p):\n",
        "        break\n",
        "    paths.append(p)\n",
        "\n",
        "if len(paths) != K:\n",
        "    paths = train_multiple_models(K=K, epochs=EPOCHS, lr=LR, base_seed=BASE_SEED)\n",
        "\n",
        "# 2) Esperimenti di merge (con re-basin)\n",
        "df_res, models_aligned, sds_aligned, sd_bary_u, sd_chain = experiment_merge(paths, do_align=True)\n",
        "\n",
        "# 3) PCA e distanze\n",
        "labels = [f\"M{i}\" for i in range(len(sds_aligned))] + [\"Bary(u)\"]\n",
        "pca_plot_models(sds_aligned + [sd_bary_u], labels)\n",
        "\n",
        "# 4) Ciclo-consistenza (nuova versione con enforcement)\n",
        "d_chain, stats, sd_cc = cycle_consistency_test(\n",
        "    sds_aligned,\n",
        "    sd_bary=sd_bary_u,\n",
        "    sd_chain=sd_chain,\n",
        "    enforce=True,\n",
        "    alpha_chain=0.5,\n",
        "    max_paths=6,\n",
        "    return_sd=True,\n",
        ")\n",
        "\n",
        "# Valuta anche il modello cycle-consistent\n",
        "print(\"\\n[Eval] Cycle-consistent consensus merge\")\n",
        "acc_cc = evaluate_state_dict(sd_cc, test_loader)\n",
        "print(f\"Accuracy (cycle-consistent): {acc_cc*100:.2f}%\")\n",
        "\n",
        "# 5) Simplex n=3 (ATTIVO)\n",
        "simplex_scan_n3(sds_aligned, steps=4)"
      ],
      "id": "Yo4h0CmR9KX6"
    }
  ],
  "metadata": {
    "kernelspec": {
      "display_name": "Python 3",
      "language": "python",
      "name": "python3"
    },
    "language_info": {
      "name": "python",
      "version": "3.x"
    },
    "colab": {
      "provenance": []
    }
  },
  "nbformat": 4,
  "nbformat_minor": 5
}